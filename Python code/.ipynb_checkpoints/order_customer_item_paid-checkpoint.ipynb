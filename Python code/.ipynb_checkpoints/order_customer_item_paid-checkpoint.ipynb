{
 "cells": [
  {
   "cell_type": "code",
   "execution_count": 19,
   "id": "c1977bc3",
   "metadata": {},
   "outputs": [],
   "source": [
    "import numpy as np\n",
    "import pandas as pd\n",
    "import matplotlib.pyplot as plt\n",
    "%matplotlib inline\n",
    "import seaborn as sns\n",
    "import statsmodels.api as sm\n",
    "from scipy.stats import boxcox\n",
    "pd.options.display.max_rows = 100"
   ]
  },
  {
   "cell_type": "code",
   "execution_count": 20,
   "id": "e843fbbd",
   "metadata": {},
   "outputs": [],
   "source": [
    "file = pd.read_csv('clean/order_customer_item_paid.csv')"
   ]
  },
  {
   "cell_type": "code",
   "execution_count": 21,
   "id": "496adc52",
   "metadata": {
    "scrolled": true
   },
   "outputs": [
    {
     "data": {
      "text/html": [
       "<div>\n",
       "<style scoped>\n",
       "    .dataframe tbody tr th:only-of-type {\n",
       "        vertical-align: middle;\n",
       "    }\n",
       "\n",
       "    .dataframe tbody tr th {\n",
       "        vertical-align: top;\n",
       "    }\n",
       "\n",
       "    .dataframe thead th {\n",
       "        text-align: right;\n",
       "    }\n",
       "</style>\n",
       "<table border=\"1\" class=\"dataframe\">\n",
       "  <thead>\n",
       "    <tr style=\"text-align: right;\">\n",
       "      <th></th>\n",
       "      <th>order_id</th>\n",
       "      <th>customer_city</th>\n",
       "      <th>customer_id</th>\n",
       "      <th>price</th>\n",
       "      <th>freight_value</th>\n",
       "      <th>final_price</th>\n",
       "    </tr>\n",
       "  </thead>\n",
       "  <tbody>\n",
       "    <tr>\n",
       "      <th>0</th>\n",
       "      <td>f11b36b3bc7bacf06deef862ed611f02</td>\n",
       "      <td>guaruja</td>\n",
       "      <td>ae8db0691449a44352e7d535ddf78c5e</td>\n",
       "      <td>109.90</td>\n",
       "      <td>14.86</td>\n",
       "      <td>124.76</td>\n",
       "    </tr>\n",
       "    <tr>\n",
       "      <th>1</th>\n",
       "      <td>0daf1f0e67b534ad873ba61c5d6ad7d3</td>\n",
       "      <td>rio de janeiro</td>\n",
       "      <td>1681471e9172d7e12ba08e9ac9e8628b</td>\n",
       "      <td>135.00</td>\n",
       "      <td>18.20</td>\n",
       "      <td>153.20</td>\n",
       "    </tr>\n",
       "    <tr>\n",
       "      <th>2</th>\n",
       "      <td>4a5cc9b4e332e03d76bf553a7f2fa5d3</td>\n",
       "      <td>belford roxo</td>\n",
       "      <td>a4a00c41b5e3ed88bf0e0bb96576c2b2</td>\n",
       "      <td>159.90</td>\n",
       "      <td>16.88</td>\n",
       "      <td>176.78</td>\n",
       "    </tr>\n",
       "    <tr>\n",
       "      <th>3</th>\n",
       "      <td>47770eb9100c2d0c44946d9cf07ec65d</td>\n",
       "      <td>vianopolis</td>\n",
       "      <td>41ce2a54c0b03bf3443c3d931a367089</td>\n",
       "      <td>159.90</td>\n",
       "      <td>19.22</td>\n",
       "      <td>179.12</td>\n",
       "    </tr>\n",
       "    <tr>\n",
       "      <th>4</th>\n",
       "      <td>5f69f6bf68dce110479aa0bb515b47c8</td>\n",
       "      <td>ribeirao pires</td>\n",
       "      <td>4cd274ce8ba240b1cff6480fa9911df1</td>\n",
       "      <td>30.00</td>\n",
       "      <td>8.72</td>\n",
       "      <td>38.72</td>\n",
       "    </tr>\n",
       "    <tr>\n",
       "      <th>...</th>\n",
       "      <td>...</td>\n",
       "      <td>...</td>\n",
       "      <td>...</td>\n",
       "      <td>...</td>\n",
       "      <td>...</td>\n",
       "      <td>...</td>\n",
       "    </tr>\n",
       "    <tr>\n",
       "      <th>111380</th>\n",
       "      <td>b73095e1b4a660f696d90a6f5446b58c</td>\n",
       "      <td>cotia</td>\n",
       "      <td>f6f53faac556fb2d6b5f26f80317fe3c</td>\n",
       "      <td>55.99</td>\n",
       "      <td>8.72</td>\n",
       "      <td>64.71</td>\n",
       "    </tr>\n",
       "    <tr>\n",
       "      <th>111381</th>\n",
       "      <td>c205abf27ff07fddd3fa9a67037138e5</td>\n",
       "      <td>nova friburgo</td>\n",
       "      <td>b7984401569369a9695e7d3f5c66c4d1</td>\n",
       "      <td>2199.00</td>\n",
       "      <td>116.83</td>\n",
       "      <td>2315.83</td>\n",
       "    </tr>\n",
       "    <tr>\n",
       "      <th>111382</th>\n",
       "      <td>847c66c29ee30c07503066b3d254f993</td>\n",
       "      <td>sao mateus do sul</td>\n",
       "      <td>371e25352587a8bf2f77b6739406281d</td>\n",
       "      <td>88.90</td>\n",
       "      <td>23.77</td>\n",
       "      <td>112.67</td>\n",
       "    </tr>\n",
       "    <tr>\n",
       "      <th>111383</th>\n",
       "      <td>c8c684d11191f71210df7c6a22115def</td>\n",
       "      <td>brasilia</td>\n",
       "      <td>a072679ac4ac4d56f1aaff9e763836ed</td>\n",
       "      <td>69.00</td>\n",
       "      <td>16.73</td>\n",
       "      <td>85.73</td>\n",
       "    </tr>\n",
       "    <tr>\n",
       "      <th>111384</th>\n",
       "      <td>6e9f8d6156d8c37f0e0e6351908de639</td>\n",
       "      <td>sao paulo</td>\n",
       "      <td>3f7029d9b98a47370cd5f3a97adcbccd</td>\n",
       "      <td>61.80</td>\n",
       "      <td>13.79</td>\n",
       "      <td>75.59</td>\n",
       "    </tr>\n",
       "  </tbody>\n",
       "</table>\n",
       "<p>111385 rows × 6 columns</p>\n",
       "</div>"
      ],
      "text/plain": [
       "                                order_id      customer_city  \\\n",
       "0       f11b36b3bc7bacf06deef862ed611f02            guaruja   \n",
       "1       0daf1f0e67b534ad873ba61c5d6ad7d3     rio de janeiro   \n",
       "2       4a5cc9b4e332e03d76bf553a7f2fa5d3       belford roxo   \n",
       "3       47770eb9100c2d0c44946d9cf07ec65d         vianopolis   \n",
       "4       5f69f6bf68dce110479aa0bb515b47c8     ribeirao pires   \n",
       "...                                  ...                ...   \n",
       "111380  b73095e1b4a660f696d90a6f5446b58c              cotia   \n",
       "111381  c205abf27ff07fddd3fa9a67037138e5      nova friburgo   \n",
       "111382  847c66c29ee30c07503066b3d254f993  sao mateus do sul   \n",
       "111383  c8c684d11191f71210df7c6a22115def           brasilia   \n",
       "111384  6e9f8d6156d8c37f0e0e6351908de639          sao paulo   \n",
       "\n",
       "                             customer_id    price  freight_value  final_price  \n",
       "0       ae8db0691449a44352e7d535ddf78c5e   109.90          14.86       124.76  \n",
       "1       1681471e9172d7e12ba08e9ac9e8628b   135.00          18.20       153.20  \n",
       "2       a4a00c41b5e3ed88bf0e0bb96576c2b2   159.90          16.88       176.78  \n",
       "3       41ce2a54c0b03bf3443c3d931a367089   159.90          19.22       179.12  \n",
       "4       4cd274ce8ba240b1cff6480fa9911df1    30.00           8.72        38.72  \n",
       "...                                  ...      ...            ...          ...  \n",
       "111380  f6f53faac556fb2d6b5f26f80317fe3c    55.99           8.72        64.71  \n",
       "111381  b7984401569369a9695e7d3f5c66c4d1  2199.00         116.83      2315.83  \n",
       "111382  371e25352587a8bf2f77b6739406281d    88.90          23.77       112.67  \n",
       "111383  a072679ac4ac4d56f1aaff9e763836ed    69.00          16.73        85.73  \n",
       "111384  3f7029d9b98a47370cd5f3a97adcbccd    61.80          13.79        75.59  \n",
       "\n",
       "[111385 rows x 6 columns]"
      ]
     },
     "execution_count": 21,
     "metadata": {},
     "output_type": "execute_result"
    }
   ],
   "source": [
    "file"
   ]
  },
  {
   "cell_type": "code",
   "execution_count": 22,
   "id": "2871e5b1",
   "metadata": {},
   "outputs": [
    {
     "name": "stdout",
     "output_type": "stream",
     "text": [
      "<class 'pandas.core.frame.DataFrame'>\n",
      "RangeIndex: 111385 entries, 0 to 111384\n",
      "Data columns (total 6 columns):\n",
      " #   Column         Non-Null Count   Dtype  \n",
      "---  ------         --------------   -----  \n",
      " 0   order_id       111385 non-null  object \n",
      " 1   customer_city  111385 non-null  object \n",
      " 2   customer_id    111385 non-null  object \n",
      " 3   price          111385 non-null  float64\n",
      " 4   freight_value  111385 non-null  float64\n",
      " 5   final_price    111385 non-null  float64\n",
      "dtypes: float64(3), object(3)\n",
      "memory usage: 5.1+ MB\n"
     ]
    }
   ],
   "source": [
    "file.info()"
   ]
  },
  {
   "cell_type": "code",
   "execution_count": 23,
   "id": "245a092a",
   "metadata": {
    "scrolled": true
   },
   "outputs": [
    {
     "data": {
      "text/plain": [
       "sao paulo                  17547\n",
       "rio de janeiro              7772\n",
       "belo horizonte              3114\n",
       "brasilia                    2372\n",
       "curitiba                    1733\n",
       "                           ...  \n",
       "brasilandia                    1\n",
       "riacho de santo antonio        1\n",
       "caridade                       1\n",
       "balbinos                       1\n",
       "arapua                         1\n",
       "Name: customer_city, Length: 4097, dtype: int64"
      ]
     },
     "execution_count": 23,
     "metadata": {},
     "output_type": "execute_result"
    }
   ],
   "source": [
    "file['customer_city'].value_counts()"
   ]
  },
  {
   "cell_type": "code",
   "execution_count": 24,
   "id": "dc98331a",
   "metadata": {},
   "outputs": [
    {
     "data": {
      "text/plain": [
       "77.57      437\n",
       "73.34      239\n",
       "35.00      203\n",
       "67.50      163\n",
       "56.78      138\n",
       "          ... \n",
       "161.35       1\n",
       "480.12       1\n",
       "127.07       1\n",
       "339.74       1\n",
       "2315.83      1\n",
       "Name: final_price, Length: 25346, dtype: int64"
      ]
     },
     "execution_count": 24,
     "metadata": {},
     "output_type": "execute_result"
    }
   ],
   "source": [
    "file['final_price'].value_counts()"
   ]
  },
  {
   "cell_type": "code",
   "execution_count": 25,
   "id": "10f5e8d6",
   "metadata": {},
   "outputs": [
    {
     "data": {
      "text/plain": [
       "59.90      2468\n",
       "69.90      1974\n",
       "49.90      1929\n",
       "89.90      1541\n",
       "99.90      1421\n",
       "           ... \n",
       "105.49        1\n",
       "49.76         1\n",
       "452.60        1\n",
       "1326.00       1\n",
       "370.99        1\n",
       "Name: price, Length: 5887, dtype: int64"
      ]
     },
     "execution_count": 25,
     "metadata": {},
     "output_type": "execute_result"
    }
   ],
   "source": [
    "file['price'].value_counts()"
   ]
  },
  {
   "cell_type": "code",
   "execution_count": 29,
   "id": "7956d781",
   "metadata": {},
   "outputs": [
    {
     "data": {
      "text/plain": [
       "0"
      ]
     },
     "execution_count": 29,
     "metadata": {},
     "output_type": "execute_result"
    }
   ],
   "source": [
    "file['freight_value'].isna().sum()"
   ]
  },
  {
   "cell_type": "code",
   "execution_count": 31,
   "id": "8461fe2c",
   "metadata": {},
   "outputs": [],
   "source": [
    "file1 = pd.read_csv('clean/order_items.csv')"
   ]
  },
  {
   "cell_type": "code",
   "execution_count": 32,
   "id": "99d943a8",
   "metadata": {},
   "outputs": [
    {
     "data": {
      "text/html": [
       "<div>\n",
       "<style scoped>\n",
       "    .dataframe tbody tr th:only-of-type {\n",
       "        vertical-align: middle;\n",
       "    }\n",
       "\n",
       "    .dataframe tbody tr th {\n",
       "        vertical-align: top;\n",
       "    }\n",
       "\n",
       "    .dataframe thead th {\n",
       "        text-align: right;\n",
       "    }\n",
       "</style>\n",
       "<table border=\"1\" class=\"dataframe\">\n",
       "  <thead>\n",
       "    <tr style=\"text-align: right;\">\n",
       "      <th></th>\n",
       "      <th>order_id</th>\n",
       "      <th>product_id</th>\n",
       "      <th>seller_id</th>\n",
       "      <th>price</th>\n",
       "      <th>freight_value</th>\n",
       "    </tr>\n",
       "  </thead>\n",
       "  <tbody>\n",
       "    <tr>\n",
       "      <th>0</th>\n",
       "      <td>00010242fe8c5a6d1ba2dd792cb16214</td>\n",
       "      <td>4244733e06e7ecb4970a6e2683c13e61</td>\n",
       "      <td>48436dade18ac8b2bce089ec2a041202</td>\n",
       "      <td>58.90</td>\n",
       "      <td>13.29</td>\n",
       "    </tr>\n",
       "    <tr>\n",
       "      <th>1</th>\n",
       "      <td>00018f77f2f0320c557190d7a144bdd3</td>\n",
       "      <td>e5f2d52b802189ee658865ca93d83a8f</td>\n",
       "      <td>dd7ddc04e1b6c2c614352b383efe2d36</td>\n",
       "      <td>239.90</td>\n",
       "      <td>19.93</td>\n",
       "    </tr>\n",
       "    <tr>\n",
       "      <th>2</th>\n",
       "      <td>000229ec398224ef6ca0657da4fc703e</td>\n",
       "      <td>c777355d18b72b67abbeef9df44fd0fd</td>\n",
       "      <td>5b51032eddd242adc84c38acab88f23d</td>\n",
       "      <td>199.00</td>\n",
       "      <td>17.87</td>\n",
       "    </tr>\n",
       "    <tr>\n",
       "      <th>3</th>\n",
       "      <td>00024acbcdf0a6daa1e931b038114c75</td>\n",
       "      <td>7634da152a4610f1595efa32f14722fc</td>\n",
       "      <td>9d7a1d34a5052409006425275ba1c2b4</td>\n",
       "      <td>12.99</td>\n",
       "      <td>12.79</td>\n",
       "    </tr>\n",
       "    <tr>\n",
       "      <th>4</th>\n",
       "      <td>00042b26cf59d7ce69dfabb4e55b4fd9</td>\n",
       "      <td>ac6c3623068f30de03045865e4e10089</td>\n",
       "      <td>df560393f3a51e74553ab94004ba5c87</td>\n",
       "      <td>199.90</td>\n",
       "      <td>18.14</td>\n",
       "    </tr>\n",
       "    <tr>\n",
       "      <th>...</th>\n",
       "      <td>...</td>\n",
       "      <td>...</td>\n",
       "      <td>...</td>\n",
       "      <td>...</td>\n",
       "      <td>...</td>\n",
       "    </tr>\n",
       "    <tr>\n",
       "      <th>112645</th>\n",
       "      <td>fffc94f6ce00a00581880bf54a75a037</td>\n",
       "      <td>4aa6014eceb682077f9dc4bffebc05b0</td>\n",
       "      <td>b8bc237ba3788b23da09c0f1f3a3288c</td>\n",
       "      <td>299.99</td>\n",
       "      <td>43.41</td>\n",
       "    </tr>\n",
       "    <tr>\n",
       "      <th>112646</th>\n",
       "      <td>fffcd46ef2263f404302a634eb57f7eb</td>\n",
       "      <td>32e07fd915822b0765e448c4dd74c828</td>\n",
       "      <td>f3c38ab652836d21de61fb8314b69182</td>\n",
       "      <td>350.00</td>\n",
       "      <td>36.53</td>\n",
       "    </tr>\n",
       "    <tr>\n",
       "      <th>112647</th>\n",
       "      <td>fffce4705a9662cd70adb13d4a31832d</td>\n",
       "      <td>72a30483855e2eafc67aee5dc2560482</td>\n",
       "      <td>c3cfdc648177fdbbbb35635a37472c53</td>\n",
       "      <td>99.90</td>\n",
       "      <td>16.95</td>\n",
       "    </tr>\n",
       "    <tr>\n",
       "      <th>112648</th>\n",
       "      <td>fffe18544ffabc95dfada21779c9644f</td>\n",
       "      <td>9c422a519119dcad7575db5af1ba540e</td>\n",
       "      <td>2b3e4a2a3ea8e01938cabda2a3e5cc79</td>\n",
       "      <td>55.99</td>\n",
       "      <td>8.72</td>\n",
       "    </tr>\n",
       "    <tr>\n",
       "      <th>112649</th>\n",
       "      <td>fffe41c64501cc87c801fd61db3f6244</td>\n",
       "      <td>350688d9dc1e75ff97be326363655e01</td>\n",
       "      <td>f7ccf836d21b2fb1de37564105216cc1</td>\n",
       "      <td>43.00</td>\n",
       "      <td>12.79</td>\n",
       "    </tr>\n",
       "  </tbody>\n",
       "</table>\n",
       "<p>112650 rows × 5 columns</p>\n",
       "</div>"
      ],
      "text/plain": [
       "                                order_id                        product_id  \\\n",
       "0       00010242fe8c5a6d1ba2dd792cb16214  4244733e06e7ecb4970a6e2683c13e61   \n",
       "1       00018f77f2f0320c557190d7a144bdd3  e5f2d52b802189ee658865ca93d83a8f   \n",
       "2       000229ec398224ef6ca0657da4fc703e  c777355d18b72b67abbeef9df44fd0fd   \n",
       "3       00024acbcdf0a6daa1e931b038114c75  7634da152a4610f1595efa32f14722fc   \n",
       "4       00042b26cf59d7ce69dfabb4e55b4fd9  ac6c3623068f30de03045865e4e10089   \n",
       "...                                  ...                               ...   \n",
       "112645  fffc94f6ce00a00581880bf54a75a037  4aa6014eceb682077f9dc4bffebc05b0   \n",
       "112646  fffcd46ef2263f404302a634eb57f7eb  32e07fd915822b0765e448c4dd74c828   \n",
       "112647  fffce4705a9662cd70adb13d4a31832d  72a30483855e2eafc67aee5dc2560482   \n",
       "112648  fffe18544ffabc95dfada21779c9644f  9c422a519119dcad7575db5af1ba540e   \n",
       "112649  fffe41c64501cc87c801fd61db3f6244  350688d9dc1e75ff97be326363655e01   \n",
       "\n",
       "                               seller_id   price  freight_value  \n",
       "0       48436dade18ac8b2bce089ec2a041202   58.90          13.29  \n",
       "1       dd7ddc04e1b6c2c614352b383efe2d36  239.90          19.93  \n",
       "2       5b51032eddd242adc84c38acab88f23d  199.00          17.87  \n",
       "3       9d7a1d34a5052409006425275ba1c2b4   12.99          12.79  \n",
       "4       df560393f3a51e74553ab94004ba5c87  199.90          18.14  \n",
       "...                                  ...     ...            ...  \n",
       "112645  b8bc237ba3788b23da09c0f1f3a3288c  299.99          43.41  \n",
       "112646  f3c38ab652836d21de61fb8314b69182  350.00          36.53  \n",
       "112647  c3cfdc648177fdbbbb35635a37472c53   99.90          16.95  \n",
       "112648  2b3e4a2a3ea8e01938cabda2a3e5cc79   55.99           8.72  \n",
       "112649  f7ccf836d21b2fb1de37564105216cc1   43.00          12.79  \n",
       "\n",
       "[112650 rows x 5 columns]"
      ]
     },
     "execution_count": 32,
     "metadata": {},
     "output_type": "execute_result"
    }
   ],
   "source": [
    "file1"
   ]
  },
  {
   "cell_type": "code",
   "execution_count": 33,
   "id": "60611268",
   "metadata": {},
   "outputs": [
    {
     "data": {
      "text/plain": [
       "59.90      2481\n",
       "69.90      1987\n",
       "49.90      1953\n",
       "89.90      1548\n",
       "99.90      1432\n",
       "           ... \n",
       "1369.90       1\n",
       "108.24        1\n",
       "1224.99       1\n",
       "24.52         1\n",
       "736.00        1\n",
       "Name: price, Length: 5968, dtype: int64"
      ]
     },
     "execution_count": 33,
     "metadata": {},
     "output_type": "execute_result"
    }
   ],
   "source": [
    "file1['price'].value_counts()"
   ]
  },
  {
   "cell_type": "code",
   "execution_count": 35,
   "id": "b3622cd8",
   "metadata": {},
   "outputs": [
    {
     "data": {
      "text/plain": [
       "0"
      ]
     },
     "execution_count": 35,
     "metadata": {},
     "output_type": "execute_result"
    }
   ],
   "source": [
    "file['price'].isna().sum()"
   ]
  },
  {
   "cell_type": "code",
   "execution_count": null,
   "id": "1670b042",
   "metadata": {},
   "outputs": [],
   "source": []
  },
  {
   "cell_type": "code",
   "execution_count": 36,
   "id": "e4611ea7",
   "metadata": {},
   "outputs": [],
   "source": [
    "file2 = pd.read_csv('clean/order_reviews.csv')"
   ]
  },
  {
   "cell_type": "code",
   "execution_count": 37,
   "id": "24363cbc",
   "metadata": {},
   "outputs": [
    {
     "data": {
      "text/html": [
       "<div>\n",
       "<style scoped>\n",
       "    .dataframe tbody tr th:only-of-type {\n",
       "        vertical-align: middle;\n",
       "    }\n",
       "\n",
       "    .dataframe tbody tr th {\n",
       "        vertical-align: top;\n",
       "    }\n",
       "\n",
       "    .dataframe thead th {\n",
       "        text-align: right;\n",
       "    }\n",
       "</style>\n",
       "<table border=\"1\" class=\"dataframe\">\n",
       "  <thead>\n",
       "    <tr style=\"text-align: right;\">\n",
       "      <th></th>\n",
       "      <th>order_id</th>\n",
       "      <th>review_score</th>\n",
       "    </tr>\n",
       "  </thead>\n",
       "  <tbody>\n",
       "    <tr>\n",
       "      <th>0</th>\n",
       "      <td>73fc7af87114b39712e6da79b0a377eb</td>\n",
       "      <td>4</td>\n",
       "    </tr>\n",
       "    <tr>\n",
       "      <th>1</th>\n",
       "      <td>a548910a1c6147796b98fdf73dbeba33</td>\n",
       "      <td>5</td>\n",
       "    </tr>\n",
       "    <tr>\n",
       "      <th>2</th>\n",
       "      <td>f9e4b658b201a9f2ecdecbb34bed034b</td>\n",
       "      <td>5</td>\n",
       "    </tr>\n",
       "    <tr>\n",
       "      <th>3</th>\n",
       "      <td>658677c97b385a9be170737859d3511b</td>\n",
       "      <td>5</td>\n",
       "    </tr>\n",
       "    <tr>\n",
       "      <th>4</th>\n",
       "      <td>8e6bfb81e283fa7e4f11123a3fb894f1</td>\n",
       "      <td>5</td>\n",
       "    </tr>\n",
       "    <tr>\n",
       "      <th>...</th>\n",
       "      <td>...</td>\n",
       "      <td>...</td>\n",
       "    </tr>\n",
       "    <tr>\n",
       "      <th>99995</th>\n",
       "      <td>22ec9f0669f784db00fa86d035cf8602</td>\n",
       "      <td>5</td>\n",
       "    </tr>\n",
       "    <tr>\n",
       "      <th>99996</th>\n",
       "      <td>55d4004744368f5571d1f590031933e4</td>\n",
       "      <td>5</td>\n",
       "    </tr>\n",
       "    <tr>\n",
       "      <th>99997</th>\n",
       "      <td>7725825d039fc1f0ceb7635e3f7d9206</td>\n",
       "      <td>4</td>\n",
       "    </tr>\n",
       "    <tr>\n",
       "      <th>99998</th>\n",
       "      <td>f8bd3f2000c28c5342fedeb5e50f2e75</td>\n",
       "      <td>1</td>\n",
       "    </tr>\n",
       "    <tr>\n",
       "      <th>99999</th>\n",
       "      <td>90531360ecb1eec2a1fbb265a0db0508</td>\n",
       "      <td>1</td>\n",
       "    </tr>\n",
       "  </tbody>\n",
       "</table>\n",
       "<p>100000 rows × 2 columns</p>\n",
       "</div>"
      ],
      "text/plain": [
       "                               order_id  review_score\n",
       "0      73fc7af87114b39712e6da79b0a377eb             4\n",
       "1      a548910a1c6147796b98fdf73dbeba33             5\n",
       "2      f9e4b658b201a9f2ecdecbb34bed034b             5\n",
       "3      658677c97b385a9be170737859d3511b             5\n",
       "4      8e6bfb81e283fa7e4f11123a3fb894f1             5\n",
       "...                                 ...           ...\n",
       "99995  22ec9f0669f784db00fa86d035cf8602             5\n",
       "99996  55d4004744368f5571d1f590031933e4             5\n",
       "99997  7725825d039fc1f0ceb7635e3f7d9206             4\n",
       "99998  f8bd3f2000c28c5342fedeb5e50f2e75             1\n",
       "99999  90531360ecb1eec2a1fbb265a0db0508             1\n",
       "\n",
       "[100000 rows x 2 columns]"
      ]
     },
     "execution_count": 37,
     "metadata": {},
     "output_type": "execute_result"
    }
   ],
   "source": [
    "file2"
   ]
  },
  {
   "cell_type": "code",
   "execution_count": 39,
   "id": "b8e4f82b",
   "metadata": {},
   "outputs": [
    {
     "data": {
      "text/plain": [
       "5    57420\n",
       "4    19200\n",
       "1    11858\n",
       "3     8287\n",
       "2     3235\n",
       "Name: review_score, dtype: int64"
      ]
     },
     "execution_count": 39,
     "metadata": {},
     "output_type": "execute_result"
    }
   ],
   "source": [
    "file2['review_score'].value_counts()"
   ]
  },
  {
   "cell_type": "code",
   "execution_count": null,
   "id": "4e4fb52a",
   "metadata": {},
   "outputs": [],
   "source": [
    "file3 = pd.read_csv('clean/order_reviews.csv')"
   ]
  },
  {
   "cell_type": "code",
   "execution_count": 40,
   "id": "12d35802",
   "metadata": {},
   "outputs": [],
   "source": [
    "file4 = pd.read_csv('clean/order_status_year_price.csv') "
   ]
  },
  {
   "cell_type": "code",
   "execution_count": 41,
   "id": "b1657168",
   "metadata": {},
   "outputs": [
    {
     "data": {
      "text/html": [
       "<div>\n",
       "<style scoped>\n",
       "    .dataframe tbody tr th:only-of-type {\n",
       "        vertical-align: middle;\n",
       "    }\n",
       "\n",
       "    .dataframe tbody tr th {\n",
       "        vertical-align: top;\n",
       "    }\n",
       "\n",
       "    .dataframe thead th {\n",
       "        text-align: right;\n",
       "    }\n",
       "</style>\n",
       "<table border=\"1\" class=\"dataframe\">\n",
       "  <thead>\n",
       "    <tr style=\"text-align: right;\">\n",
       "      <th></th>\n",
       "      <th>order_id</th>\n",
       "      <th>year</th>\n",
       "      <th>product_id</th>\n",
       "      <th>category</th>\n",
       "      <th>total_price</th>\n",
       "    </tr>\n",
       "  </thead>\n",
       "  <tbody>\n",
       "    <tr>\n",
       "      <th>0</th>\n",
       "      <td>e17e4f88e31525f7deef66779844ddce</td>\n",
       "      <td>2018</td>\n",
       "      <td>1e9e8ef04dbcff4541ed26657ea517e5</td>\n",
       "      <td>perfumery\\r</td>\n",
       "      <td>18.30</td>\n",
       "    </tr>\n",
       "    <tr>\n",
       "      <th>1</th>\n",
       "      <td>5236307716393b7114b53ee991f36956</td>\n",
       "      <td>2018</td>\n",
       "      <td>3aa071139cb16b67ca9e5dea641aaa2f</td>\n",
       "      <td>art\\r</td>\n",
       "      <td>265.99</td>\n",
       "    </tr>\n",
       "    <tr>\n",
       "      <th>2</th>\n",
       "      <td>01f66e58769f84129811d43eefd187fb</td>\n",
       "      <td>2018</td>\n",
       "      <td>96bd76ec8810374ed1b65e291975717f</td>\n",
       "      <td>sports_leisure\\r</td>\n",
       "      <td>87.62</td>\n",
       "    </tr>\n",
       "    <tr>\n",
       "      <th>3</th>\n",
       "      <td>143d00a4f2dde4e0364ee1821577adb3</td>\n",
       "      <td>2018</td>\n",
       "      <td>cef67bcfe19066a932b7673e239eb23d</td>\n",
       "      <td>baby\\r</td>\n",
       "      <td>121.84</td>\n",
       "    </tr>\n",
       "    <tr>\n",
       "      <th>4</th>\n",
       "      <td>86cafb8794cb99a9b1b77fc8e48fbbbb</td>\n",
       "      <td>2018</td>\n",
       "      <td>9dc1a7de274444849c219cff195d0b71</td>\n",
       "      <td>housewares\\r</td>\n",
       "      <td>46.19</td>\n",
       "    </tr>\n",
       "    <tr>\n",
       "      <th>...</th>\n",
       "      <td>...</td>\n",
       "      <td>...</td>\n",
       "      <td>...</td>\n",
       "      <td>...</td>\n",
       "      <td>...</td>\n",
       "    </tr>\n",
       "    <tr>\n",
       "      <th>155024</th>\n",
       "      <td>6e4465d771f02e4fe335225de3c6c043</td>\n",
       "      <td>2018</td>\n",
       "      <td>83808703fc0706a22e264b9d75f04a2e</td>\n",
       "      <td>computers_accessories\\r</td>\n",
       "      <td>53.18</td>\n",
       "    </tr>\n",
       "    <tr>\n",
       "      <th>155025</th>\n",
       "      <td>6e4465d771f02e4fe335225de3c6c043</td>\n",
       "      <td>2018</td>\n",
       "      <td>83808703fc0706a22e264b9d75f04a2e</td>\n",
       "      <td>computers_accessories\\r</td>\n",
       "      <td>53.18</td>\n",
       "    </tr>\n",
       "    <tr>\n",
       "      <th>155026</th>\n",
       "      <td>6e4465d771f02e4fe335225de3c6c043</td>\n",
       "      <td>2018</td>\n",
       "      <td>83808703fc0706a22e264b9d75f04a2e</td>\n",
       "      <td>computers_accessories\\r</td>\n",
       "      <td>53.18</td>\n",
       "    </tr>\n",
       "    <tr>\n",
       "      <th>155027</th>\n",
       "      <td>6e4465d771f02e4fe335225de3c6c043</td>\n",
       "      <td>2018</td>\n",
       "      <td>83808703fc0706a22e264b9d75f04a2e</td>\n",
       "      <td>computers_accessories\\r</td>\n",
       "      <td>53.18</td>\n",
       "    </tr>\n",
       "    <tr>\n",
       "      <th>155028</th>\n",
       "      <td>f3a47ba087f05d39a74ed1b653f0be1b</td>\n",
       "      <td>2018</td>\n",
       "      <td>106392145fca363410d287a815be6de4</td>\n",
       "      <td>bed_bath_table\\r</td>\n",
       "      <td>134.55</td>\n",
       "    </tr>\n",
       "  </tbody>\n",
       "</table>\n",
       "<p>155029 rows × 5 columns</p>\n",
       "</div>"
      ],
      "text/plain": [
       "                                order_id  year  \\\n",
       "0       e17e4f88e31525f7deef66779844ddce  2018   \n",
       "1       5236307716393b7114b53ee991f36956  2018   \n",
       "2       01f66e58769f84129811d43eefd187fb  2018   \n",
       "3       143d00a4f2dde4e0364ee1821577adb3  2018   \n",
       "4       86cafb8794cb99a9b1b77fc8e48fbbbb  2018   \n",
       "...                                  ...   ...   \n",
       "155024  6e4465d771f02e4fe335225de3c6c043  2018   \n",
       "155025  6e4465d771f02e4fe335225de3c6c043  2018   \n",
       "155026  6e4465d771f02e4fe335225de3c6c043  2018   \n",
       "155027  6e4465d771f02e4fe335225de3c6c043  2018   \n",
       "155028  f3a47ba087f05d39a74ed1b653f0be1b  2018   \n",
       "\n",
       "                              product_id                 category  total_price  \n",
       "0       1e9e8ef04dbcff4541ed26657ea517e5              perfumery\\r        18.30  \n",
       "1       3aa071139cb16b67ca9e5dea641aaa2f                    art\\r       265.99  \n",
       "2       96bd76ec8810374ed1b65e291975717f         sports_leisure\\r        87.62  \n",
       "3       cef67bcfe19066a932b7673e239eb23d                   baby\\r       121.84  \n",
       "4       9dc1a7de274444849c219cff195d0b71             housewares\\r        46.19  \n",
       "...                                  ...                      ...          ...  \n",
       "155024  83808703fc0706a22e264b9d75f04a2e  computers_accessories\\r        53.18  \n",
       "155025  83808703fc0706a22e264b9d75f04a2e  computers_accessories\\r        53.18  \n",
       "155026  83808703fc0706a22e264b9d75f04a2e  computers_accessories\\r        53.18  \n",
       "155027  83808703fc0706a22e264b9d75f04a2e  computers_accessories\\r        53.18  \n",
       "155028  106392145fca363410d287a815be6de4         bed_bath_table\\r       134.55  \n",
       "\n",
       "[155029 rows x 5 columns]"
      ]
     },
     "execution_count": 41,
     "metadata": {},
     "output_type": "execute_result"
    }
   ],
   "source": [
    "file4"
   ]
  },
  {
   "cell_type": "code",
   "execution_count": 43,
   "id": "c7f585c4",
   "metadata": {},
   "outputs": [
    {
     "data": {
      "text/plain": [
       "bed_bath_table\\r                             16197\n",
       "furniture_decor\\r                            14779\n",
       "health_beauty\\r                              12479\n",
       "computers_accessories\\r                      11910\n",
       "sports_leisure\\r                             11216\n",
       "housewares\\r                                 11142\n",
       "garden_tools\\r                                7399\n",
       "watches_gifts\\r                               7195\n",
       "telephony\\r                                   5766\n",
       "auto\\r                                        5536\n",
       "toys\\r                                        4772\n",
       "cool_stuff\\r                                  4369\n",
       "perfumery\\r                                   4152\n",
       "baby\\r                                        3789\n",
       "electronics\\r                                 3413\n",
       "office_furniture\\r                            3378\n",
       "stationery\\r                                  3091\n",
       "pet_shop\\r                                    2612\n",
       "fashion_bags_accessories\\r                    2504\n",
       "construction_tools_construction\\r             1647\n",
       "consoles_games\\r                              1354\n",
       "luggage_accessories\\r                         1243\n",
       "home_construction\\r                           1019\n",
       "musical_instruments\\r                          852\n",
       "furniture_living_room\\r                        839\n",
       "small_appliances\\r                             816\n",
       "home_appliances\\r                              785\n",
       "drinks\\r                                       760\n",
       "food\\r                                         705\n",
       "books_general_interest\\r                       664\n",
       "home_confort\\r                                 599\n",
       "construction_tools_lights\\r                    551\n",
       "fixed_telephony\\r                              470\n",
       "market_place\\r                                 450\n",
       "food_drink\\r                                   449\n",
       "air_conditioning\\r                             427\n",
       "signaling_and_security\\r                       416\n",
       "audio\\r                                        400\n",
       "kitchen_dining_laundry_garden_furniture\\r      373\n",
       "costruction_tools_garden\\r                     366\n",
       "industry_commerce_and_business\\r               354\n",
       "fashion_shoes\\r                                322\n",
       "agro_industry_and_commerce\\r                   318\n",
       "construction_tools_safety\\r                    308\n",
       "books_technical\\r                              285\n",
       "computers\\r                                    265\n",
       "art\\r                                          251\n",
       "christmas_supplies\\r                           251\n",
       "home_appliances_2\\r                            247\n",
       "fashion_male_clothing\\r                        181\n",
       "fashion_underwear_beach\\r                      163\n",
       "furniture_bedroom\\r                            142\n",
       "costruction_tools_tools\\r                      115\n",
       "cine_photo\\r                                    97\n",
       "tablets_printing_image\\r                        94\n",
       "diapers_and_hygiene\\r                           93\n",
       "fashio_female_clothing\\r                        85\n",
       "small_appliances_home_oven_and_coffee\\r         78\n",
       "dvds_blu_ray\\r                                  77\n",
       "books_imported\\r                                75\n",
       "party_supplies\\r                                52\n",
       "flowers\\r                                       48\n",
       "home_comfort_2\\r                                46\n",
       "fashion_sport\\r                                 44\n",
       "music\\r                                         40\n",
       "furniture_mattress_and_upholstery\\r             38\n",
       "arts_and_craftmanship\\r                         28\n",
       "la_cuisine\\r                                    18\n",
       "cds_dvds_musicals\\r                             18\n",
       "fashion_childrens_clothes\\r                     10\n",
       "security_and_services                            2\n",
       "Name: category, dtype: int64"
      ]
     },
     "execution_count": 43,
     "metadata": {},
     "output_type": "execute_result"
    }
   ],
   "source": [
    "file4['category'].value_counts()"
   ]
  },
  {
   "cell_type": "code",
   "execution_count": null,
   "id": "4ac8b825",
   "metadata": {},
   "outputs": [],
   "source": []
  },
  {
   "cell_type": "code",
   "execution_count": 45,
   "id": "10767f82",
   "metadata": {},
   "outputs": [
    {
     "data": {
      "text/plain": [
       "0"
      ]
     },
     "execution_count": 45,
     "metadata": {},
     "output_type": "execute_result"
    }
   ],
   "source": [
    "file4['total_price'].isna().sum()"
   ]
  },
  {
   "cell_type": "code",
   "execution_count": 46,
   "id": "49ea8dd8",
   "metadata": {},
   "outputs": [],
   "source": [
    "file5 = pd.read_csv('clean/product_cat_price.csv')"
   ]
  },
  {
   "cell_type": "code",
   "execution_count": 47,
   "id": "ccc8aa88",
   "metadata": {},
   "outputs": [
    {
     "data": {
      "text/html": [
       "<div>\n",
       "<style scoped>\n",
       "    .dataframe tbody tr th:only-of-type {\n",
       "        vertical-align: middle;\n",
       "    }\n",
       "\n",
       "    .dataframe tbody tr th {\n",
       "        vertical-align: top;\n",
       "    }\n",
       "\n",
       "    .dataframe thead th {\n",
       "        text-align: right;\n",
       "    }\n",
       "</style>\n",
       "<table border=\"1\" class=\"dataframe\">\n",
       "  <thead>\n",
       "    <tr style=\"text-align: right;\">\n",
       "      <th></th>\n",
       "      <th>product_id</th>\n",
       "      <th>cat</th>\n",
       "      <th>price</th>\n",
       "    </tr>\n",
       "  </thead>\n",
       "  <tbody>\n",
       "    <tr>\n",
       "      <th>0</th>\n",
       "      <td>1e9e8ef04dbcff4541ed26657ea517e5</td>\n",
       "      <td>perfumaria</td>\n",
       "      <td>10.91</td>\n",
       "    </tr>\n",
       "    <tr>\n",
       "      <th>1</th>\n",
       "      <td>3aa071139cb16b67ca9e5dea641aaa2f</td>\n",
       "      <td>artes</td>\n",
       "      <td>248.00</td>\n",
       "    </tr>\n",
       "    <tr>\n",
       "      <th>2</th>\n",
       "      <td>96bd76ec8810374ed1b65e291975717f</td>\n",
       "      <td>esporte_lazer</td>\n",
       "      <td>79.80</td>\n",
       "    </tr>\n",
       "    <tr>\n",
       "      <th>3</th>\n",
       "      <td>cef67bcfe19066a932b7673e239eb23d</td>\n",
       "      <td>bebes</td>\n",
       "      <td>112.30</td>\n",
       "    </tr>\n",
       "    <tr>\n",
       "      <th>4</th>\n",
       "      <td>9dc1a7de274444849c219cff195d0b71</td>\n",
       "      <td>utilidades_domesticas</td>\n",
       "      <td>37.90</td>\n",
       "    </tr>\n",
       "    <tr>\n",
       "      <th>...</th>\n",
       "      <td>...</td>\n",
       "      <td>...</td>\n",
       "      <td>...</td>\n",
       "    </tr>\n",
       "    <tr>\n",
       "      <th>111018</th>\n",
       "      <td>83808703fc0706a22e264b9d75f04a2e</td>\n",
       "      <td>informatica_acessorios</td>\n",
       "      <td>29.90</td>\n",
       "    </tr>\n",
       "    <tr>\n",
       "      <th>111019</th>\n",
       "      <td>83808703fc0706a22e264b9d75f04a2e</td>\n",
       "      <td>informatica_acessorios</td>\n",
       "      <td>29.90</td>\n",
       "    </tr>\n",
       "    <tr>\n",
       "      <th>111020</th>\n",
       "      <td>83808703fc0706a22e264b9d75f04a2e</td>\n",
       "      <td>informatica_acessorios</td>\n",
       "      <td>29.90</td>\n",
       "    </tr>\n",
       "    <tr>\n",
       "      <th>111021</th>\n",
       "      <td>83808703fc0706a22e264b9d75f04a2e</td>\n",
       "      <td>informatica_acessorios</td>\n",
       "      <td>29.90</td>\n",
       "    </tr>\n",
       "    <tr>\n",
       "      <th>111022</th>\n",
       "      <td>106392145fca363410d287a815be6de4</td>\n",
       "      <td>cama_mesa_banho</td>\n",
       "      <td>107.50</td>\n",
       "    </tr>\n",
       "  </tbody>\n",
       "</table>\n",
       "<p>111023 rows × 3 columns</p>\n",
       "</div>"
      ],
      "text/plain": [
       "                              product_id                     cat   price\n",
       "0       1e9e8ef04dbcff4541ed26657ea517e5              perfumaria   10.91\n",
       "1       3aa071139cb16b67ca9e5dea641aaa2f                   artes  248.00\n",
       "2       96bd76ec8810374ed1b65e291975717f           esporte_lazer   79.80\n",
       "3       cef67bcfe19066a932b7673e239eb23d                   bebes  112.30\n",
       "4       9dc1a7de274444849c219cff195d0b71   utilidades_domesticas   37.90\n",
       "...                                  ...                     ...     ...\n",
       "111018  83808703fc0706a22e264b9d75f04a2e  informatica_acessorios   29.90\n",
       "111019  83808703fc0706a22e264b9d75f04a2e  informatica_acessorios   29.90\n",
       "111020  83808703fc0706a22e264b9d75f04a2e  informatica_acessorios   29.90\n",
       "111021  83808703fc0706a22e264b9d75f04a2e  informatica_acessorios   29.90\n",
       "111022  106392145fca363410d287a815be6de4         cama_mesa_banho  107.50\n",
       "\n",
       "[111023 rows x 3 columns]"
      ]
     },
     "execution_count": 47,
     "metadata": {},
     "output_type": "execute_result"
    }
   ],
   "source": [
    "file5"
   ]
  },
  {
   "cell_type": "code",
   "execution_count": 49,
   "id": "241ffd5e",
   "metadata": {},
   "outputs": [
    {
     "data": {
      "text/plain": [
       "0"
      ]
     },
     "execution_count": 49,
     "metadata": {},
     "output_type": "execute_result"
    }
   ],
   "source": [
    "file5['cat'].isna().sum()"
   ]
  },
  {
   "cell_type": "code",
   "execution_count": 52,
   "id": "a45babe8",
   "metadata": {},
   "outputs": [
    {
     "data": {
      "text/plain": [
       "0"
      ]
     },
     "execution_count": 52,
     "metadata": {},
     "output_type": "execute_result"
    }
   ],
   "source": [
    "file5['cat'].isna().sum()"
   ]
  },
  {
   "cell_type": "code",
   "execution_count": 51,
   "id": "8e2ecef6",
   "metadata": {},
   "outputs": [
    {
     "data": {
      "text/plain": [
       "59.90     2461\n",
       "69.90     1978\n",
       "49.90     1933\n",
       "89.90     1534\n",
       "99.90     1419\n",
       "          ... \n",
       "637.00       1\n",
       "185.89       1\n",
       "849.98       1\n",
       "30.52        1\n",
       "107.54       1\n",
       "Name: price, Length: 5899, dtype: int64"
      ]
     },
     "execution_count": 51,
     "metadata": {},
     "output_type": "execute_result"
    }
   ],
   "source": [
    "file5['price'].value_counts()"
   ]
  },
  {
   "cell_type": "code",
   "execution_count": 53,
   "id": "07e2951f",
   "metadata": {},
   "outputs": [],
   "source": [
    "file6 = pd.read_csv('clean/sellers.csv')"
   ]
  },
  {
   "cell_type": "code",
   "execution_count": 54,
   "id": "1a10a291",
   "metadata": {},
   "outputs": [
    {
     "data": {
      "text/html": [
       "<div>\n",
       "<style scoped>\n",
       "    .dataframe tbody tr th:only-of-type {\n",
       "        vertical-align: middle;\n",
       "    }\n",
       "\n",
       "    .dataframe tbody tr th {\n",
       "        vertical-align: top;\n",
       "    }\n",
       "\n",
       "    .dataframe thead th {\n",
       "        text-align: right;\n",
       "    }\n",
       "</style>\n",
       "<table border=\"1\" class=\"dataframe\">\n",
       "  <thead>\n",
       "    <tr style=\"text-align: right;\">\n",
       "      <th></th>\n",
       "      <th>seller_id</th>\n",
       "      <th>seller_zip_code_prefix</th>\n",
       "      <th>seller_city</th>\n",
       "      <th>seller_state</th>\n",
       "    </tr>\n",
       "  </thead>\n",
       "  <tbody>\n",
       "    <tr>\n",
       "      <th>0</th>\n",
       "      <td>3442f8959a84dea7ee197c632cb2df15</td>\n",
       "      <td>13023</td>\n",
       "      <td>campinas</td>\n",
       "      <td>SP</td>\n",
       "    </tr>\n",
       "    <tr>\n",
       "      <th>1</th>\n",
       "      <td>d1b65fc7debc3361ea86b5f14c68d2e2</td>\n",
       "      <td>13844</td>\n",
       "      <td>mogi guacu</td>\n",
       "      <td>SP</td>\n",
       "    </tr>\n",
       "    <tr>\n",
       "      <th>2</th>\n",
       "      <td>ce3ad9de960102d0677a81f5d0bb7b2d</td>\n",
       "      <td>20031</td>\n",
       "      <td>rio de janeiro</td>\n",
       "      <td>RJ</td>\n",
       "    </tr>\n",
       "    <tr>\n",
       "      <th>3</th>\n",
       "      <td>c0f3eea2e14555b6faeea3dd58c1b1c3</td>\n",
       "      <td>4195</td>\n",
       "      <td>sao paulo</td>\n",
       "      <td>SP</td>\n",
       "    </tr>\n",
       "    <tr>\n",
       "      <th>4</th>\n",
       "      <td>51a04a8a6bdcb23deccc82b0b80742cf</td>\n",
       "      <td>12914</td>\n",
       "      <td>braganca paulista</td>\n",
       "      <td>SP</td>\n",
       "    </tr>\n",
       "    <tr>\n",
       "      <th>...</th>\n",
       "      <td>...</td>\n",
       "      <td>...</td>\n",
       "      <td>...</td>\n",
       "      <td>...</td>\n",
       "    </tr>\n",
       "    <tr>\n",
       "      <th>3090</th>\n",
       "      <td>98dddbc4601dd4443ca174359b237166</td>\n",
       "      <td>87111</td>\n",
       "      <td>sarandi</td>\n",
       "      <td>PR</td>\n",
       "    </tr>\n",
       "    <tr>\n",
       "      <th>3091</th>\n",
       "      <td>f8201cab383e484733266d1906e2fdfa</td>\n",
       "      <td>88137</td>\n",
       "      <td>palhoca</td>\n",
       "      <td>SC</td>\n",
       "    </tr>\n",
       "    <tr>\n",
       "      <th>3092</th>\n",
       "      <td>74871d19219c7d518d0090283e03c137</td>\n",
       "      <td>4650</td>\n",
       "      <td>sao paulo</td>\n",
       "      <td>SP</td>\n",
       "    </tr>\n",
       "    <tr>\n",
       "      <th>3093</th>\n",
       "      <td>e603cf3fec55f8697c9059638d6c8eb5</td>\n",
       "      <td>96080</td>\n",
       "      <td>pelotas</td>\n",
       "      <td>RS</td>\n",
       "    </tr>\n",
       "    <tr>\n",
       "      <th>3094</th>\n",
       "      <td>9e25199f6ef7e7c347120ff175652c3b</td>\n",
       "      <td>12051</td>\n",
       "      <td>taubate</td>\n",
       "      <td>SP</td>\n",
       "    </tr>\n",
       "  </tbody>\n",
       "</table>\n",
       "<p>3095 rows × 4 columns</p>\n",
       "</div>"
      ],
      "text/plain": [
       "                             seller_id  seller_zip_code_prefix  \\\n",
       "0     3442f8959a84dea7ee197c632cb2df15                   13023   \n",
       "1     d1b65fc7debc3361ea86b5f14c68d2e2                   13844   \n",
       "2     ce3ad9de960102d0677a81f5d0bb7b2d                   20031   \n",
       "3     c0f3eea2e14555b6faeea3dd58c1b1c3                    4195   \n",
       "4     51a04a8a6bdcb23deccc82b0b80742cf                   12914   \n",
       "...                                ...                     ...   \n",
       "3090  98dddbc4601dd4443ca174359b237166                   87111   \n",
       "3091  f8201cab383e484733266d1906e2fdfa                   88137   \n",
       "3092  74871d19219c7d518d0090283e03c137                    4650   \n",
       "3093  e603cf3fec55f8697c9059638d6c8eb5                   96080   \n",
       "3094  9e25199f6ef7e7c347120ff175652c3b                   12051   \n",
       "\n",
       "            seller_city seller_state  \n",
       "0              campinas           SP  \n",
       "1            mogi guacu           SP  \n",
       "2        rio de janeiro           RJ  \n",
       "3             sao paulo           SP  \n",
       "4     braganca paulista           SP  \n",
       "...                 ...          ...  \n",
       "3090            sarandi           PR  \n",
       "3091            palhoca           SC  \n",
       "3092          sao paulo           SP  \n",
       "3093            pelotas           RS  \n",
       "3094            taubate           SP  \n",
       "\n",
       "[3095 rows x 4 columns]"
      ]
     },
     "execution_count": 54,
     "metadata": {},
     "output_type": "execute_result"
    }
   ],
   "source": [
    "file6"
   ]
  },
  {
   "cell_type": "code",
   "execution_count": 55,
   "id": "53f96418",
   "metadata": {},
   "outputs": [
    {
     "data": {
      "text/plain": [
       "0"
      ]
     },
     "execution_count": 55,
     "metadata": {},
     "output_type": "execute_result"
    }
   ],
   "source": [
    "file6['seller_state'].isna().sum()"
   ]
  },
  {
   "cell_type": "code",
   "execution_count": 56,
   "id": "04ef0ac1",
   "metadata": {},
   "outputs": [
    {
     "data": {
      "text/plain": [
       "0"
      ]
     },
     "execution_count": 56,
     "metadata": {},
     "output_type": "execute_result"
    }
   ],
   "source": [
    "file6['seller_city'].isna().sum()"
   ]
  },
  {
   "cell_type": "code",
   "execution_count": 57,
   "id": "63c52fdd",
   "metadata": {},
   "outputs": [
    {
     "data": {
      "text/plain": [
       "SP    1849\n",
       "PR     349\n",
       "MG     244\n",
       "SC     190\n",
       "RJ     171\n",
       "RS     129\n",
       "GO      40\n",
       "DF      30\n",
       "ES      23\n",
       "BA      19\n",
       "CE      13\n",
       "PE       9\n",
       "PB       6\n",
       "RN       5\n",
       "MS       5\n",
       "MT       4\n",
       "RO       2\n",
       "SE       2\n",
       "PI       1\n",
       "AC       1\n",
       "MA       1\n",
       "AM       1\n",
       "PA       1\n",
       "Name: seller_state, dtype: int64"
      ]
     },
     "execution_count": 57,
     "metadata": {},
     "output_type": "execute_result"
    }
   ],
   "source": [
    "file6['seller_state'].value_counts()"
   ]
  },
  {
   "cell_type": "code",
   "execution_count": 58,
   "id": "67c610bc",
   "metadata": {},
   "outputs": [
    {
     "data": {
      "text/plain": [
       "sao paulo              694\n",
       "curitiba               127\n",
       "rio de janeiro          96\n",
       "belo horizonte          68\n",
       "ribeirao preto          52\n",
       "                      ... \n",
       "taruma                   1\n",
       "s jose do rio preto      1\n",
       "domingos martins         1\n",
       "messias targino          1\n",
       "leme                     1\n",
       "Name: seller_city, Length: 611, dtype: int64"
      ]
     },
     "execution_count": 58,
     "metadata": {},
     "output_type": "execute_result"
    }
   ],
   "source": [
    "file6['seller_city'].value_counts()"
   ]
  },
  {
   "cell_type": "code",
   "execution_count": 59,
   "id": "b12b0231",
   "metadata": {},
   "outputs": [
    {
     "data": {
      "text/plain": [
       "14940    49\n",
       "13660    10\n",
       "13920     9\n",
       "16200     9\n",
       "87050     8\n",
       "         ..\n",
       "83707     1\n",
       "85065     1\n",
       "78552     1\n",
       "3632      1\n",
       "12051     1\n",
       "Name: seller_zip_code_prefix, Length: 2246, dtype: int64"
      ]
     },
     "execution_count": 59,
     "metadata": {},
     "output_type": "execute_result"
    }
   ],
   "source": [
    "file6['seller_zip_code_prefix'].value_counts()"
   ]
  },
  {
   "cell_type": "code",
   "execution_count": 61,
   "id": "1c389b6b",
   "metadata": {},
   "outputs": [
    {
     "data": {
      "text/plain": [
       "0"
      ]
     },
     "execution_count": 61,
     "metadata": {},
     "output_type": "execute_result"
    }
   ],
   "source": [
    "file6['seller_zip_code_prefix'].isna().sum()"
   ]
  }
 ],
 "metadata": {
  "kernelspec": {
   "display_name": "Python 3 (ipykernel)",
   "language": "python",
   "name": "python3"
  },
  "language_info": {
   "codemirror_mode": {
    "name": "ipython",
    "version": 3
   },
   "file_extension": ".py",
   "mimetype": "text/x-python",
   "name": "python",
   "nbconvert_exporter": "python",
   "pygments_lexer": "ipython3",
   "version": "3.9.12"
  }
 },
 "nbformat": 4,
 "nbformat_minor": 5
}
