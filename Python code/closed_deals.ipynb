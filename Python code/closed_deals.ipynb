{
 "cells": [
  {
   "cell_type": "code",
   "execution_count": 2,
   "id": "ceb1830b",
   "metadata": {},
   "outputs": [],
   "source": [
    "import numpy as np\n",
    "import pandas as pd\n",
    "import matplotlib.pyplot as plt\n",
    "%matplotlib inline\n",
    "import seaborn as sns"
   ]
  },
  {
   "cell_type": "code",
   "execution_count": 5,
   "id": "2c366d04",
   "metadata": {},
   "outputs": [
    {
     "data": {
      "text/html": [
       "<div>\n",
       "<style scoped>\n",
       "    .dataframe tbody tr th:only-of-type {\n",
       "        vertical-align: middle;\n",
       "    }\n",
       "\n",
       "    .dataframe tbody tr th {\n",
       "        vertical-align: top;\n",
       "    }\n",
       "\n",
       "    .dataframe thead th {\n",
       "        text-align: right;\n",
       "    }\n",
       "</style>\n",
       "<table border=\"1\" class=\"dataframe\">\n",
       "  <thead>\n",
       "    <tr style=\"text-align: right;\">\n",
       "      <th></th>\n",
       "      <th>mql_id</th>\n",
       "      <th>business_segment</th>\n",
       "      <th>business_type</th>\n",
       "      <th>seller_id</th>\n",
       "      <th>declared_monthly_revenue</th>\n",
       "    </tr>\n",
       "  </thead>\n",
       "  <tbody>\n",
       "    <tr>\n",
       "      <th>0</th>\n",
       "      <td>5420aad7fec3549a85876ba1c529bd84</td>\n",
       "      <td>pet</td>\n",
       "      <td>reseller</td>\n",
       "      <td>2c43fb513632d29b3b58df74816f1b06</td>\n",
       "      <td>0</td>\n",
       "    </tr>\n",
       "    <tr>\n",
       "      <th>1</th>\n",
       "      <td>a555fb36b9368110ede0f043dfc3b9a0</td>\n",
       "      <td>car_accessories</td>\n",
       "      <td>reseller</td>\n",
       "      <td>bbb7d7893a450660432ea6652310ebb7</td>\n",
       "      <td>0</td>\n",
       "    </tr>\n",
       "    <tr>\n",
       "      <th>2</th>\n",
       "      <td>327174d3648a2d047e8940d7d15204ca</td>\n",
       "      <td>home_appliances</td>\n",
       "      <td>reseller</td>\n",
       "      <td>612170e34b97004b3ba37eae81836b4c</td>\n",
       "      <td>0</td>\n",
       "    </tr>\n",
       "    <tr>\n",
       "      <th>3</th>\n",
       "      <td>f5fee8f7da74f4887f5bcae2bafb6dd6</td>\n",
       "      <td>food_drink</td>\n",
       "      <td>reseller</td>\n",
       "      <td>21e1781e36faf92725dde4730a88ca0f</td>\n",
       "      <td>0</td>\n",
       "    </tr>\n",
       "    <tr>\n",
       "      <th>4</th>\n",
       "      <td>ffe640179b554e295c167a2f6be528e0</td>\n",
       "      <td>home_appliances</td>\n",
       "      <td>manufacturer</td>\n",
       "      <td>ed8cb7b190ceb6067227478e48cf8dde</td>\n",
       "      <td>0</td>\n",
       "    </tr>\n",
       "    <tr>\n",
       "      <th>...</th>\n",
       "      <td>...</td>\n",
       "      <td>...</td>\n",
       "      <td>...</td>\n",
       "      <td>...</td>\n",
       "      <td>...</td>\n",
       "    </tr>\n",
       "    <tr>\n",
       "      <th>837</th>\n",
       "      <td>df9a2abe2ad3f2d8758b675ac8331ecf</td>\n",
       "      <td>home_decor</td>\n",
       "      <td>reseller</td>\n",
       "      <td>bfcc27719640628da877db48b672b169</td>\n",
       "      <td>0</td>\n",
       "    </tr>\n",
       "    <tr>\n",
       "      <th>838</th>\n",
       "      <td>8723201570415eb23b4f095d8c20a27c</td>\n",
       "      <td>construction_tools_house_garden</td>\n",
       "      <td>reseller</td>\n",
       "      <td>4a82eab98441aeb64566e2776c1fb2b6</td>\n",
       "      <td>200000</td>\n",
       "    </tr>\n",
       "    <tr>\n",
       "      <th>839</th>\n",
       "      <td>2e57665b8faf05c967a801eb5aedfa0a</td>\n",
       "      <td>computers</td>\n",
       "      <td>reseller</td>\n",
       "      <td>55031883943971ca22db6894574cfe2c</td>\n",
       "      <td>0</td>\n",
       "    </tr>\n",
       "    <tr>\n",
       "      <th>840</th>\n",
       "      <td>40955be51cc85c5a5a6cdd12b19e9f10</td>\n",
       "      <td>pet</td>\n",
       "      <td>reseller</td>\n",
       "      <td>c0e933c238e41f0cd459d6025ee9b364</td>\n",
       "      <td>0</td>\n",
       "    </tr>\n",
       "    <tr>\n",
       "      <th>841</th>\n",
       "      <td>8a6492305a5fbcdcdd1a7f5a90764c07</td>\n",
       "      <td>household_utilities</td>\n",
       "      <td>manufacturer</td>\n",
       "      <td>1bba9c94eb5c4e82fba9f7286fe81025</td>\n",
       "      <td>0</td>\n",
       "    </tr>\n",
       "  </tbody>\n",
       "</table>\n",
       "<p>842 rows × 5 columns</p>\n",
       "</div>"
      ],
      "text/plain": [
       "                               mql_id                 business_segment  \\\n",
       "0    5420aad7fec3549a85876ba1c529bd84                              pet   \n",
       "1    a555fb36b9368110ede0f043dfc3b9a0                  car_accessories   \n",
       "2    327174d3648a2d047e8940d7d15204ca                  home_appliances   \n",
       "3    f5fee8f7da74f4887f5bcae2bafb6dd6                       food_drink   \n",
       "4    ffe640179b554e295c167a2f6be528e0                  home_appliances   \n",
       "..                                ...                              ...   \n",
       "837  df9a2abe2ad3f2d8758b675ac8331ecf                       home_decor   \n",
       "838  8723201570415eb23b4f095d8c20a27c  construction_tools_house_garden   \n",
       "839  2e57665b8faf05c967a801eb5aedfa0a                        computers   \n",
       "840  40955be51cc85c5a5a6cdd12b19e9f10                              pet   \n",
       "841  8a6492305a5fbcdcdd1a7f5a90764c07              household_utilities   \n",
       "\n",
       "    business_type                         seller_id  declared_monthly_revenue  \n",
       "0        reseller  2c43fb513632d29b3b58df74816f1b06                         0  \n",
       "1        reseller  bbb7d7893a450660432ea6652310ebb7                         0  \n",
       "2        reseller  612170e34b97004b3ba37eae81836b4c                         0  \n",
       "3        reseller  21e1781e36faf92725dde4730a88ca0f                         0  \n",
       "4    manufacturer  ed8cb7b190ceb6067227478e48cf8dde                         0  \n",
       "..            ...                               ...                       ...  \n",
       "837      reseller  bfcc27719640628da877db48b672b169                         0  \n",
       "838      reseller  4a82eab98441aeb64566e2776c1fb2b6                    200000  \n",
       "839      reseller  55031883943971ca22db6894574cfe2c                         0  \n",
       "840      reseller  c0e933c238e41f0cd459d6025ee9b364                         0  \n",
       "841  manufacturer  1bba9c94eb5c4e82fba9f7286fe81025                         0  \n",
       "\n",
       "[842 rows x 5 columns]"
      ]
     },
     "execution_count": 5,
     "metadata": {},
     "output_type": "execute_result"
    }
   ],
   "source": [
    "closed_deal_df=pd.read_csv(\"clean/closed_deals.csv\")\n",
    "closed_deal_df"
   ]
  },
  {
   "cell_type": "code",
   "execution_count": 4,
   "id": "3ec737b2",
   "metadata": {},
   "outputs": [
    {
     "name": "stdout",
     "output_type": "stream",
     "text": [
      "<class 'pandas.core.frame.DataFrame'>\n",
      "RangeIndex: 103886 entries, 0 to 103885\n",
      "Data columns (total 2 columns):\n",
      " #   Column         Non-Null Count   Dtype  \n",
      "---  ------         --------------   -----  \n",
      " 0   order_id       103886 non-null  object \n",
      " 1   payment_value  103886 non-null  float64\n",
      "dtypes: float64(1), object(1)\n",
      "memory usage: 1.6+ MB\n"
     ]
    }
   ],
   "source": [
    "closed_deal_df.info()"
   ]
  },
  {
   "cell_type": "code",
   "execution_count": 27,
   "id": "f39d529d",
   "metadata": {},
   "outputs": [
    {
     "data": {
      "text/plain": [
       "array(['reseller', 'manufacturer', 'other'], dtype=object)"
      ]
     },
     "execution_count": 27,
     "metadata": {},
     "output_type": "execute_result"
    }
   ],
   "source": [
    "closed_deal_df.business_type.unique()"
   ]
  },
  {
   "cell_type": "code",
   "execution_count": 28,
   "id": "078aa883",
   "metadata": {},
   "outputs": [
    {
     "data": {
      "text/plain": [
       "reseller        587\n",
       "manufacturer    242\n",
       "other            13\n",
       "Name: business_type, dtype: int64"
      ]
     },
     "execution_count": 28,
     "metadata": {},
     "output_type": "execute_result"
    }
   ],
   "source": [
    "closed_deal_df[\"business_type\"].value_counts()"
   ]
  },
  {
   "cell_type": "code",
   "execution_count": 29,
   "id": "bfbe08c2",
   "metadata": {
    "scrolled": true
   },
   "outputs": [],
   "source": [
    "closed_deal_df[\"business_type\"]=closed_deal_df[\"business_type\"].fillna(\"other\")"
   ]
  },
  {
   "cell_type": "code",
   "execution_count": 30,
   "id": "10bb6fba",
   "metadata": {
    "scrolled": true
   },
   "outputs": [
    {
     "data": {
      "text/plain": [
       "reseller        587\n",
       "manufacturer    242\n",
       "other            13\n",
       "Name: business_type, dtype: int64"
      ]
     },
     "execution_count": 30,
     "metadata": {},
     "output_type": "execute_result"
    }
   ],
   "source": [
    "closed_deal_df[\"business_type\"].value_counts()"
   ]
  },
  {
   "cell_type": "code",
   "execution_count": 36,
   "id": "676b7f51",
   "metadata": {},
   "outputs": [
    {
     "data": {
      "text/plain": [
       "1"
      ]
     },
     "execution_count": 36,
     "metadata": {},
     "output_type": "execute_result"
    }
   ],
   "source": [
    "closed_deal_df[\"business_segment\"].isna().sum()"
   ]
  },
  {
   "cell_type": "code",
   "execution_count": 39,
   "id": "691d2308",
   "metadata": {
    "scrolled": true
   },
   "outputs": [
    {
     "data": {
      "text/plain": [
       "0           797\n",
       "100000        5\n",
       "20000         3\n",
       "30000         3\n",
       "10000         3\n",
       "25000         3\n",
       "15000         2\n",
       "120000        2\n",
       "50000         2\n",
       "60000         2\n",
       "300000        2\n",
       "5000          2\n",
       "250000        2\n",
       "210000        1\n",
       "8000000       1\n",
       "40000         1\n",
       "50000000      1\n",
       "4000          1\n",
       "150000        1\n",
       "6             1\n",
       "1000          1\n",
       "180000        1\n",
       "500000        1\n",
       "130000        1\n",
       "6000          1\n",
       "8000          1\n",
       "200000        1\n",
       "Name: declared_monthly_revenue, dtype: int64"
      ]
     },
     "execution_count": 39,
     "metadata": {},
     "output_type": "execute_result"
    }
   ],
   "source": [
    "closed_deal_df[\"declared_monthly_revenue\"].unique()"
   ]
  },
  {
   "cell_type": "code",
   "execution_count": 54,
   "id": "5000a921",
   "metadata": {},
   "outputs": [
    {
     "data": {
      "text/plain": [
       "array([       0,   100000,    20000,     6000,   180000,    30000,\n",
       "              6,   150000,    10000,    25000, 50000000,   210000,\n",
       "          15000,   250000,  8000000,    40000,     5000,     4000,\n",
       "         300000,    60000,     1000,    50000,   500000,   130000,\n",
       "         120000,     8000,   200000])"
      ]
     },
     "execution_count": 54,
     "metadata": {},
     "output_type": "execute_result"
    }
   ],
   "source": [
    "closed_deal_df[\"declared_monthly_revenue\"].unique()"
   ]
  },
  {
   "cell_type": "code",
   "execution_count": 55,
   "id": "90830e88",
   "metadata": {},
   "outputs": [
    {
     "data": {
      "text/html": [
       "<div>\n",
       "<style scoped>\n",
       "    .dataframe tbody tr th:only-of-type {\n",
       "        vertical-align: middle;\n",
       "    }\n",
       "\n",
       "    .dataframe tbody tr th {\n",
       "        vertical-align: top;\n",
       "    }\n",
       "\n",
       "    .dataframe thead th {\n",
       "        text-align: right;\n",
       "    }\n",
       "</style>\n",
       "<table border=\"1\" class=\"dataframe\">\n",
       "  <thead>\n",
       "    <tr style=\"text-align: right;\">\n",
       "      <th></th>\n",
       "      <th>customer_id</th>\n",
       "      <th>customer_city</th>\n",
       "      <th>customer_state</th>\n",
       "      <th>customer_zip_code_prefix</th>\n",
       "    </tr>\n",
       "  </thead>\n",
       "  <tbody>\n",
       "    <tr>\n",
       "      <th>0</th>\n",
       "      <td>06b8999e2fba1a1fbc88172c00ba8bc7</td>\n",
       "      <td>franca</td>\n",
       "      <td>SP</td>\n",
       "      <td>14409</td>\n",
       "    </tr>\n",
       "    <tr>\n",
       "      <th>1</th>\n",
       "      <td>18955e83d337fd6b2def6b18a428ac77</td>\n",
       "      <td>sao bernardo do campo</td>\n",
       "      <td>SP</td>\n",
       "      <td>9790</td>\n",
       "    </tr>\n",
       "    <tr>\n",
       "      <th>2</th>\n",
       "      <td>4e7b3e00288586ebd08712fdd0374a03</td>\n",
       "      <td>sao paulo</td>\n",
       "      <td>SP</td>\n",
       "      <td>1151</td>\n",
       "    </tr>\n",
       "    <tr>\n",
       "      <th>3</th>\n",
       "      <td>b2b6027bc5c5109e529d4dc6358b12c3</td>\n",
       "      <td>mogi das cruzes</td>\n",
       "      <td>SP</td>\n",
       "      <td>8775</td>\n",
       "    </tr>\n",
       "    <tr>\n",
       "      <th>4</th>\n",
       "      <td>4f2d8ab171c80ec8364f7c12e35b23ad</td>\n",
       "      <td>campinas</td>\n",
       "      <td>SP</td>\n",
       "      <td>13056</td>\n",
       "    </tr>\n",
       "    <tr>\n",
       "      <th>...</th>\n",
       "      <td>...</td>\n",
       "      <td>...</td>\n",
       "      <td>...</td>\n",
       "      <td>...</td>\n",
       "    </tr>\n",
       "    <tr>\n",
       "      <th>99436</th>\n",
       "      <td>17ddf5dd5d51696bb3d7c6291687be6f</td>\n",
       "      <td>sao paulo</td>\n",
       "      <td>SP</td>\n",
       "      <td>3937</td>\n",
       "    </tr>\n",
       "    <tr>\n",
       "      <th>99437</th>\n",
       "      <td>e7b71a9017aa05c9a7fd292d714858e8</td>\n",
       "      <td>taboao da serra</td>\n",
       "      <td>SP</td>\n",
       "      <td>6764</td>\n",
       "    </tr>\n",
       "    <tr>\n",
       "      <th>99438</th>\n",
       "      <td>5e28dfe12db7fb50a4b2f691faecea5e</td>\n",
       "      <td>fortaleza</td>\n",
       "      <td>CE</td>\n",
       "      <td>60115</td>\n",
       "    </tr>\n",
       "    <tr>\n",
       "      <th>99439</th>\n",
       "      <td>56b18e2166679b8a959d72dd06da27f9</td>\n",
       "      <td>canoas</td>\n",
       "      <td>RS</td>\n",
       "      <td>92120</td>\n",
       "    </tr>\n",
       "    <tr>\n",
       "      <th>99440</th>\n",
       "      <td>274fa6071e5e17fe303b9748641082c8</td>\n",
       "      <td>cotia</td>\n",
       "      <td>SP</td>\n",
       "      <td>6703</td>\n",
       "    </tr>\n",
       "  </tbody>\n",
       "</table>\n",
       "<p>99441 rows × 4 columns</p>\n",
       "</div>"
      ],
      "text/plain": [
       "                            customer_id          customer_city customer_state  \\\n",
       "0      06b8999e2fba1a1fbc88172c00ba8bc7                 franca             SP   \n",
       "1      18955e83d337fd6b2def6b18a428ac77  sao bernardo do campo             SP   \n",
       "2      4e7b3e00288586ebd08712fdd0374a03              sao paulo             SP   \n",
       "3      b2b6027bc5c5109e529d4dc6358b12c3        mogi das cruzes             SP   \n",
       "4      4f2d8ab171c80ec8364f7c12e35b23ad               campinas             SP   \n",
       "...                                 ...                    ...            ...   \n",
       "99436  17ddf5dd5d51696bb3d7c6291687be6f              sao paulo             SP   \n",
       "99437  e7b71a9017aa05c9a7fd292d714858e8        taboao da serra             SP   \n",
       "99438  5e28dfe12db7fb50a4b2f691faecea5e              fortaleza             CE   \n",
       "99439  56b18e2166679b8a959d72dd06da27f9                 canoas             RS   \n",
       "99440  274fa6071e5e17fe303b9748641082c8                  cotia             SP   \n",
       "\n",
       "       customer_zip_code_prefix  \n",
       "0                         14409  \n",
       "1                          9790  \n",
       "2                          1151  \n",
       "3                          8775  \n",
       "4                         13056  \n",
       "...                         ...  \n",
       "99436                      3937  \n",
       "99437                      6764  \n",
       "99438                     60115  \n",
       "99439                     92120  \n",
       "99440                      6703  \n",
       "\n",
       "[99441 rows x 4 columns]"
      ]
     },
     "execution_count": 55,
     "metadata": {},
     "output_type": "execute_result"
    }
   ],
   "source": [
    "customers_df=pd.read_csv(\"clean/customers.csv\")\n",
    "customers_df"
   ]
  },
  {
   "cell_type": "code",
   "execution_count": 58,
   "id": "58011695",
   "metadata": {},
   "outputs": [
    {
     "data": {
      "text/plain": [
       "0"
      ]
     },
     "execution_count": 58,
     "metadata": {},
     "output_type": "execute_result"
    }
   ],
   "source": [
    "customers_df[\"customer_city\"].isna().sum()"
   ]
  },
  {
   "cell_type": "code",
   "execution_count": 61,
   "id": "17db0a31",
   "metadata": {},
   "outputs": [
    {
     "name": "stdout",
     "output_type": "stream",
     "text": [
      "<class 'pandas.core.series.Series'>\n",
      "RangeIndex: 99441 entries, 0 to 99440\n",
      "Series name: customer_city\n",
      "Non-Null Count  Dtype \n",
      "--------------  ----- \n",
      "99441 non-null  object\n",
      "dtypes: object(1)\n",
      "memory usage: 777.0+ KB\n"
     ]
    }
   ],
   "source": [
    "customers_df[\"customer_city\"].info()"
   ]
  },
  {
   "cell_type": "code",
   "execution_count": 62,
   "id": "911da335",
   "metadata": {
    "scrolled": true
   },
   "outputs": [
    {
     "name": "stdout",
     "output_type": "stream",
     "text": [
      "<class 'pandas.core.series.Series'>\n",
      "RangeIndex: 99441 entries, 0 to 99440\n",
      "Series name: customer_state\n",
      "Non-Null Count  Dtype \n",
      "--------------  ----- \n",
      "99441 non-null  object\n",
      "dtypes: object(1)\n",
      "memory usage: 777.0+ KB\n"
     ]
    }
   ],
   "source": [
    "customers_df[\"customer_state\"].info()"
   ]
  },
  {
   "cell_type": "code",
   "execution_count": 63,
   "id": "0502a0b7",
   "metadata": {
    "scrolled": true
   },
   "outputs": [
    {
     "name": "stdout",
     "output_type": "stream",
     "text": [
      "<class 'pandas.core.series.Series'>\n",
      "RangeIndex: 99441 entries, 0 to 99440\n",
      "Series name: customer_zip_code_prefix\n",
      "Non-Null Count  Dtype\n",
      "--------------  -----\n",
      "99441 non-null  int64\n",
      "dtypes: int64(1)\n",
      "memory usage: 777.0 KB\n"
     ]
    }
   ],
   "source": [
    "customers_df[\"customer_zip_code_prefix\"].info()"
   ]
  },
  {
   "cell_type": "code",
   "execution_count": null,
   "id": "761d20ec",
   "metadata": {},
   "outputs": [],
   "source": [
    "closed_deal_df"
   ]
  }
 ],
 "metadata": {
  "kernelspec": {
   "display_name": "Python 3 (ipykernel)",
   "language": "python",
   "name": "python3"
  },
  "language_info": {
   "codemirror_mode": {
    "name": "ipython",
    "version": 3
   },
   "file_extension": ".py",
   "mimetype": "text/x-python",
   "name": "python",
   "nbconvert_exporter": "python",
   "pygments_lexer": "ipython3",
   "version": "3.9.12"
  }
 },
 "nbformat": 4,
 "nbformat_minor": 5
}
