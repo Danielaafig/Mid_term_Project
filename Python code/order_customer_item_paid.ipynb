{
 "cells": [
  {
   "cell_type": "code",
   "execution_count": 19,
   "id": "17bd033b",
   "metadata": {},
   "outputs": [],
   "source": [
    "import numpy as np\n",
    "import pandas as pd\n",
    "import matplotlib.pyplot as plt\n",
    "%matplotlib inline\n",
    "import seaborn as sns\n",
    "import statsmodels.api as sm\n",
    "from scipy.stats import boxcox\n",
    "pd.options.display.max_rows = 100"
   ]
  },
  {
   "cell_type": "code",
   "execution_count": 20,
   "id": "135a3dce",
   "metadata": {},
   "outputs": [],
   "source": [
    "file = pd.read_csv('clean/order_customer_item_paid.csv')"
   ]
  },
  {
   "cell_type": "code",
   "execution_count": 21,
   "id": "0eafe2a2",
   "metadata": {
    "scrolled": true
   },
   "outputs": [
    {
     "data": {
      "text/html": [
       "<div>\n",
       "<style scoped>\n",
       "    .dataframe tbody tr th:only-of-type {\n",
       "        vertical-align: middle;\n",
       "    }\n",
       "\n",
       "    .dataframe tbody tr th {\n",
       "        vertical-align: top;\n",
       "    }\n",
       "\n",
       "    .dataframe thead th {\n",
       "        text-align: right;\n",
       "    }\n",
       "</style>\n",
       "<table border=\"1\" class=\"dataframe\">\n",
       "  <thead>\n",
       "    <tr style=\"text-align: right;\">\n",
       "      <th></th>\n",
       "      <th>order_id</th>\n",
       "      <th>customer_city</th>\n",
       "      <th>customer_id</th>\n",
       "      <th>price</th>\n",
       "      <th>freight_value</th>\n",
       "      <th>final_price</th>\n",
       "    </tr>\n",
       "  </thead>\n",
       "  <tbody>\n",
       "    <tr>\n",
       "      <th>0</th>\n",
       "      <td>f11b36b3bc7bacf06deef862ed611f02</td>\n",
       "      <td>guaruja</td>\n",
       "      <td>ae8db0691449a44352e7d535ddf78c5e</td>\n",
       "      <td>109.90</td>\n",
       "      <td>14.86</td>\n",
       "      <td>124.76</td>\n",
       "    </tr>\n",
       "    <tr>\n",
       "      <th>1</th>\n",
       "      <td>0daf1f0e67b534ad873ba61c5d6ad7d3</td>\n",
       "      <td>rio de janeiro</td>\n",
       "      <td>1681471e9172d7e12ba08e9ac9e8628b</td>\n",
       "      <td>135.00</td>\n",
       "      <td>18.20</td>\n",
       "      <td>153.20</td>\n",
       "    </tr>\n",
       "    <tr>\n",
       "      <th>2</th>\n",
       "      <td>4a5cc9b4e332e03d76bf553a7f2fa5d3</td>\n",
       "      <td>belford roxo</td>\n",
       "      <td>a4a00c41b5e3ed88bf0e0bb96576c2b2</td>\n",
       "      <td>159.90</td>\n",
       "      <td>16.88</td>\n",
       "      <td>176.78</td>\n",
       "    </tr>\n",
       "    <tr>\n",
       "      <th>3</th>\n",
       "      <td>47770eb9100c2d0c44946d9cf07ec65d</td>\n",
       "      <td>vianopolis</td>\n",
       "      <td>41ce2a54c0b03bf3443c3d931a367089</td>\n",
       "      <td>159.90</td>\n",
       "      <td>19.22</td>\n",
       "      <td>179.12</td>\n",
       "    </tr>\n",
       "    <tr>\n",
       "      <th>4</th>\n",
       "      <td>5f69f6bf68dce110479aa0bb515b47c8</td>\n",
       "      <td>ribeirao pires</td>\n",
       "      <td>4cd274ce8ba240b1cff6480fa9911df1</td>\n",
       "      <td>30.00</td>\n",
       "      <td>8.72</td>\n",
       "      <td>38.72</td>\n",
       "    </tr>\n",
       "    <tr>\n",
       "      <th>...</th>\n",
       "      <td>...</td>\n",
       "      <td>...</td>\n",
       "      <td>...</td>\n",
       "      <td>...</td>\n",
       "      <td>...</td>\n",
       "      <td>...</td>\n",
       "    </tr>\n",
       "    <tr>\n",
       "      <th>111380</th>\n",
       "      <td>b73095e1b4a660f696d90a6f5446b58c</td>\n",
       "      <td>cotia</td>\n",
       "      <td>f6f53faac556fb2d6b5f26f80317fe3c</td>\n",
       "      <td>55.99</td>\n",
       "      <td>8.72</td>\n",
       "      <td>64.71</td>\n",
       "    </tr>\n",
       "    <tr>\n",
       "      <th>111381</th>\n",
       "      <td>c205abf27ff07fddd3fa9a67037138e5</td>\n",
       "      <td>nova friburgo</td>\n",
       "      <td>b7984401569369a9695e7d3f5c66c4d1</td>\n",
       "      <td>2199.00</td>\n",
       "      <td>116.83</td>\n",
       "      <td>2315.83</td>\n",
       "    </tr>\n",
       "    <tr>\n",
       "      <th>111382</th>\n",
       "      <td>847c66c29ee30c07503066b3d254f993</td>\n",
       "      <td>sao mateus do sul</td>\n",
       "      <td>371e25352587a8bf2f77b6739406281d</td>\n",
       "      <td>88.90</td>\n",
       "      <td>23.77</td>\n",
       "      <td>112.67</td>\n",
       "    </tr>\n",
       "    <tr>\n",
       "      <th>111383</th>\n",
       "      <td>c8c684d11191f71210df7c6a22115def</td>\n",
       "      <td>brasilia</td>\n",
       "      <td>a072679ac4ac4d56f1aaff9e763836ed</td>\n",
       "      <td>69.00</td>\n",
       "      <td>16.73</td>\n",
       "      <td>85.73</td>\n",
       "    </tr>\n",
       "    <tr>\n",
       "      <th>111384</th>\n",
       "      <td>6e9f8d6156d8c37f0e0e6351908de639</td>\n",
       "      <td>sao paulo</td>\n",
       "      <td>3f7029d9b98a47370cd5f3a97adcbccd</td>\n",
       "      <td>61.80</td>\n",
       "      <td>13.79</td>\n",
       "      <td>75.59</td>\n",
       "    </tr>\n",
       "  </tbody>\n",
       "</table>\n",
       "<p>111385 rows × 6 columns</p>\n",
       "</div>"
      ],
      "text/plain": [
       "                                order_id      customer_city  \\\n",
       "0       f11b36b3bc7bacf06deef862ed611f02            guaruja   \n",
       "1       0daf1f0e67b534ad873ba61c5d6ad7d3     rio de janeiro   \n",
       "2       4a5cc9b4e332e03d76bf553a7f2fa5d3       belford roxo   \n",
       "3       47770eb9100c2d0c44946d9cf07ec65d         vianopolis   \n",
       "4       5f69f6bf68dce110479aa0bb515b47c8     ribeirao pires   \n",
       "...                                  ...                ...   \n",
       "111380  b73095e1b4a660f696d90a6f5446b58c              cotia   \n",
       "111381  c205abf27ff07fddd3fa9a67037138e5      nova friburgo   \n",
       "111382  847c66c29ee30c07503066b3d254f993  sao mateus do sul   \n",
       "111383  c8c684d11191f71210df7c6a22115def           brasilia   \n",
       "111384  6e9f8d6156d8c37f0e0e6351908de639          sao paulo   \n",
       "\n",
       "                             customer_id    price  freight_value  final_price  \n",
       "0       ae8db0691449a44352e7d535ddf78c5e   109.90          14.86       124.76  \n",
       "1       1681471e9172d7e12ba08e9ac9e8628b   135.00          18.20       153.20  \n",
       "2       a4a00c41b5e3ed88bf0e0bb96576c2b2   159.90          16.88       176.78  \n",
       "3       41ce2a54c0b03bf3443c3d931a367089   159.90          19.22       179.12  \n",
       "4       4cd274ce8ba240b1cff6480fa9911df1    30.00           8.72        38.72  \n",
       "...                                  ...      ...            ...          ...  \n",
       "111380  f6f53faac556fb2d6b5f26f80317fe3c    55.99           8.72        64.71  \n",
       "111381  b7984401569369a9695e7d3f5c66c4d1  2199.00         116.83      2315.83  \n",
       "111382  371e25352587a8bf2f77b6739406281d    88.90          23.77       112.67  \n",
       "111383  a072679ac4ac4d56f1aaff9e763836ed    69.00          16.73        85.73  \n",
       "111384  3f7029d9b98a47370cd5f3a97adcbccd    61.80          13.79        75.59  \n",
       "\n",
       "[111385 rows x 6 columns]"
      ]
     },
     "execution_count": 21,
     "metadata": {},
     "output_type": "execute_result"
    }
   ],
   "source": [
    "file"
   ]
  },
  {
   "cell_type": "code",
   "execution_count": 22,
   "id": "4f480715",
   "metadata": {},
   "outputs": [
    {
     "name": "stdout",
     "output_type": "stream",
     "text": [
      "<class 'pandas.core.frame.DataFrame'>\n",
      "RangeIndex: 111385 entries, 0 to 111384\n",
      "Data columns (total 6 columns):\n",
      " #   Column         Non-Null Count   Dtype  \n",
      "---  ------         --------------   -----  \n",
      " 0   order_id       111385 non-null  object \n",
      " 1   customer_city  111385 non-null  object \n",
      " 2   customer_id    111385 non-null  object \n",
      " 3   price          111385 non-null  float64\n",
      " 4   freight_value  111385 non-null  float64\n",
      " 5   final_price    111385 non-null  float64\n",
      "dtypes: float64(3), object(3)\n",
      "memory usage: 5.1+ MB\n"
     ]
    }
   ],
   "source": [
    "file.info()"
   ]
  },
  {
   "cell_type": "code",
   "execution_count": 23,
   "id": "5b252483",
   "metadata": {
    "scrolled": true
   },
   "outputs": [
    {
     "data": {
      "text/plain": [
       "sao paulo                  17547\n",
       "rio de janeiro              7772\n",
       "belo horizonte              3114\n",
       "brasilia                    2372\n",
       "curitiba                    1733\n",
       "                           ...  \n",
       "brasilandia                    1\n",
       "riacho de santo antonio        1\n",
       "caridade                       1\n",
       "balbinos                       1\n",
       "arapua                         1\n",
       "Name: customer_city, Length: 4097, dtype: int64"
      ]
     },
     "execution_count": 23,
     "metadata": {},
     "output_type": "execute_result"
    }
   ],
   "source": [
    "file['customer_city'].value_counts()"
   ]
  },
  {
   "cell_type": "code",
   "execution_count": 24,
   "id": "3fd87ad4",
   "metadata": {},
   "outputs": [
    {
     "data": {
      "text/plain": [
       "77.57      437\n",
       "73.34      239\n",
       "35.00      203\n",
       "67.50      163\n",
       "56.78      138\n",
       "          ... \n",
       "161.35       1\n",
       "480.12       1\n",
       "127.07       1\n",
       "339.74       1\n",
       "2315.83      1\n",
       "Name: final_price, Length: 25346, dtype: int64"
      ]
     },
     "execution_count": 24,
     "metadata": {},
     "output_type": "execute_result"
    }
   ],
   "source": [
    "file['final_price'].value_counts()"
   ]
  },
  {
   "cell_type": "code",
   "execution_count": 25,
   "id": "7f492454",
   "metadata": {},
   "outputs": [
    {
     "data": {
      "text/plain": [
       "59.90      2468\n",
       "69.90      1974\n",
       "49.90      1929\n",
       "89.90      1541\n",
       "99.90      1421\n",
       "           ... \n",
       "105.49        1\n",
       "49.76         1\n",
       "452.60        1\n",
       "1326.00       1\n",
       "370.99        1\n",
       "Name: price, Length: 5887, dtype: int64"
      ]
     },
     "execution_count": 25,
     "metadata": {},
     "output_type": "execute_result"
    }
   ],
   "source": [
    "file['price'].value_counts()"
   ]
  },
  {
   "cell_type": "code",
   "execution_count": 29,
   "id": "24d5668b",
   "metadata": {},
   "outputs": [
    {
     "data": {
      "text/plain": [
       "0"
      ]
     },
     "execution_count": 29,
     "metadata": {},
     "output_type": "execute_result"
    }
   ],
   "source": [
    "file['freight_value'].isna().sum()"
   ]
  },
  {
   "cell_type": "code",
   "execution_count": null,
   "id": "08b58165",
   "metadata": {},
   "outputs": [],
   "source": []
  }
 ],
 "metadata": {
  "kernelspec": {
   "display_name": "Python 3 (ipykernel)",
   "language": "python",
   "name": "python3"
  },
  "language_info": {
   "codemirror_mode": {
    "name": "ipython",
    "version": 3
   },
   "file_extension": ".py",
   "mimetype": "text/x-python",
   "name": "python",
   "nbconvert_exporter": "python",
   "pygments_lexer": "ipython3",
   "version": "3.9.12"
  }
 },
 "nbformat": 4,
 "nbformat_minor": 5
}
